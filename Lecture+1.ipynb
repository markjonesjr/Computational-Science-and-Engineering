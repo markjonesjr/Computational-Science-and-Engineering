{
 "cells": [
  {
   "cell_type": "markdown",
   "metadata": {},
   "source": [
    "Lecture 1 starts with a matrix K\n",
    "\n",
    "\n",
    "% Create the matrix used in the lecture\n",
    "K_matrix = [[2,-1,0,0],[-1,2,-1,0],[0,-1,2,-1],[0,0,-1,2]]\n",
    "\n",
    "% Or create K_matrix using the toeplitz command\n",
    "import scipy.linalg\n",
    "scipy.linalg.toeplitz([2,-1,0,0])\n",
    "\n",
    "% Properties of the matrix K\n",
    "\n",
    "\n",
    "\n",
    "%\n",
    "import numpy\n",
    "K_matrix == numpy.transpose(K_matrix)\n"
   ]
  },
  {
   "cell_type": "code",
   "execution_count": 4,
   "metadata": {
    "collapsed": true
   },
   "outputs": [],
   "source": [
    "# Create the matrix used in the lecture\n",
    "K_matrix = [[2,-1,0,0],[-1,2,-1,0],[0,-1,2,-1],[0,0,-1,2]]"
   ]
  },
  {
   "cell_type": "code",
   "execution_count": 5,
   "metadata": {},
   "outputs": [
    {
     "name": "stdout",
     "output_type": "stream",
     "text": [
      "[[ 2 -1  0  0]\n",
      " [-1  2 -1  0]\n",
      " [ 0 -1  2 -1]\n",
      " [ 0  0 -1  2]]\n"
     ]
    }
   ],
   "source": [
    "# Or create K_matrix using the toeplitz command\n",
    "import scipy.linalg\n",
    "K_matrix = scipy.linalg.toeplitz([2,-1,0,0])\n",
    "print(K_matrix)"
   ]
  },
  {
   "cell_type": "markdown",
   "metadata": {},
   "source": [
    "### Exploring the Properties of K"
   ]
  },
  {
   "cell_type": "markdown",
   "metadata": {},
   "source": [
    "#### Symmetry"
   ]
  },
  {
   "cell_type": "markdown",
   "metadata": {},
   "source": [
    "$K$ is *symmetric* iff $ K = K^{T} $"
   ]
  },
  {
   "cell_type": "code",
   "execution_count": 6,
   "metadata": {},
   "outputs": [
    {
     "data": {
      "text/plain": [
       "array([[ True,  True,  True,  True],\n",
       "       [ True,  True,  True,  True],\n",
       "       [ True,  True,  True,  True],\n",
       "       [ True,  True,  True,  True]], dtype=bool)"
      ]
     },
     "execution_count": 6,
     "metadata": {},
     "output_type": "execute_result"
    }
   ],
   "source": [
    "# numpy is the package with the \"transpose\" command\n",
    "import numpy\n",
    "\n",
    "# If K is symmetric, then K = K^T\n",
    "K_matrix == numpy.transpose(K_matrix)"
   ]
  },
  {
   "cell_type": "markdown",
   "metadata": {},
   "source": [
    "#### Sparse"
   ]
  },
  {
   "cell_type": "markdown",
   "metadata": {},
   "source": [
    "A sparse matrix consists of mostly zeroes. It that allows special [computational] techniques to take advantage of the large number of \"background\" (commonly zero) elements.  The number of zeros a matrix needs in order to be considered \"sparse\" depends on the structure of the matrix and the desired operations to perform on it.<sup>1</sup>\n",
    "\n",
    "1. Davis, Tim and Weisstein, Eric W. \"Sparse Matrix.\" From MathWorld--A Wolfram Web Resource. http://mathworld.wolfram.com/SparseMatrix.html"
   ]
  },
  {
   "cell_type": "code",
   "execution_count": 7,
   "metadata": {},
   "outputs": [
    {
     "data": {
      "text/plain": [
       "10"
      ]
     },
     "execution_count": 7,
     "metadata": {},
     "output_type": "execute_result"
    }
   ],
   "source": [
    "# count_nonzero is the numpy command for counting the non-zero elements of a sparse matrix\n",
    "numpy.count_nonzero(K_matrix)"
   ]
  },
  {
   "cell_type": "markdown",
   "metadata": {},
   "source": [
    "#### Tridiagonal"
   ]
  },
  {
   "cell_type": "markdown",
   "metadata": {},
   "source": [
    "A square matrix with nonzero elements only on the diagonal and slots horizontally or vertically adjacent the diagonal.<sup>1</sup>.\n",
    "\n",
    "1. Weisstein, Eric W. \"Tridiagonal Matrix.\" From MathWorld--A Wolfram Web Resource. http://mathworld.wolfram.com/TridiagonalMatrix.html\n"
   ]
  },
  {
   "cell_type": "markdown",
   "metadata": {},
   "source": [
    "#### Constant diagonal"
   ]
  },
  {
   "cell_type": "markdown",
   "metadata": {},
   "source": [
    "$K_{i,i} = K_{j,j}$ for natural numbers $i,j$ up to $4$. For example, $K_{1,1} = K_{2,2} = 2$ and so on.  Furthermore, the matrix $K$ it is constant on each and every diagonal."
   ]
  },
  {
   "cell_type": "markdown",
   "metadata": {},
   "source": [
    "#### Invertible"
   ]
  },
  {
   "cell_type": "markdown",
   "metadata": {},
   "source": [
    "There exists a matrix $K^{-1}$ such that $KK^{-1} = K^{-1}K = I$"
   ]
  },
  {
   "cell_type": "code",
   "execution_count": 8,
   "metadata": {},
   "outputs": [
    {
     "name": "stdout",
     "output_type": "stream",
     "text": [
      "[[ 1.  0.  0.  0.]\n",
      " [ 0.  1.  0.  0.]\n",
      " [ 0.  0.  1.  0.]\n",
      " [ 0.  0.  0.  1.]]\n"
     ]
    }
   ],
   "source": [
    "# numpy command for the identity matrix is eye(N)\n",
    "print(numpy.eye(4))"
   ]
  },
  {
   "cell_type": "markdown",
   "metadata": {},
   "source": [
    "We can show a matrix is invertible by row-reducing."
   ]
  },
  {
   "cell_type": "code",
   "execution_count": 9,
   "metadata": {},
   "outputs": [
    {
     "data": {
      "text/plain": [
       "array([[ 4.        , -0.        ,  0.        ,  0.        ],\n",
       "       [-0.        ,  3.        , -0.        ,  0.        ],\n",
       "       [ 0.        , -0.        ,  2.66666667, -0.        ],\n",
       "       [ 0.        ,  0.        , -0.        ,  2.5       ]])"
      ]
     },
     "execution_count": 9,
     "metadata": {},
     "output_type": "execute_result"
    }
   ],
   "source": [
    "# Create the inverse matrix \n",
    "K_inv_matrix = [[2,0,0,0],[0,3/2,0,0],[0,0,4/3,0],[0,0,0,5/4]]\n",
    "\n",
    "# show the product is the Identity matrix\n",
    "K_inv_matrix * K_matrix"
   ]
  },
  {
   "cell_type": "markdown",
   "metadata": {
    "collapsed": true
   },
   "source": [
    "#### What happens if we change K a little bit?"
   ]
  },
  {
   "cell_type": "code",
   "execution_count": 21,
   "metadata": {},
   "outputs": [
    {
     "name": "stdout",
     "output_type": "stream",
     "text": [
      "[[2, -1, 0, -1], [-1, 2, -1, 0], [0, -1, 2, -1], [-1, 0, -1, 2]]\n"
     ]
    }
   ],
   "source": [
    "# Create the matrix used in the lecture\n",
    "C_matrix = [[2,-1,0,-1],[-1,2,-1,0],[0,-1,2,-1],[-1,0,-1,2]]\n",
    "print(C_matrix)"
   ]
  },
  {
   "cell_type": "markdown",
   "metadata": {
    "collapsed": true
   },
   "source": [
    "C is the circulant matrix. It is not invertible. We can show this by finding a vector that maps to the null space.\n",
    "We want to find a vector, $u$, such that $C u = 0$. This is a proof by contradiction. If $C$ is invertible, then $C^{-1} C u = C^{-1} * 0 = 0$. Thus $u = 0$, which is a contradiction."
   ]
  },
  {
   "cell_type": "code",
   "execution_count": 25,
   "metadata": {},
   "outputs": [
    {
     "data": {
      "text/plain": [
       "array([[0],\n",
       "       [0],\n",
       "       [0],\n",
       "       [0]])"
      ]
     },
     "execution_count": 25,
     "metadata": {},
     "output_type": "execute_result"
    }
   ],
   "source": [
    "u_matrix = [[1],[1],[1],[1]]\n",
    "numpy.matmul(C_matrix, u_matrix)"
   ]
  },
  {
   "cell_type": "markdown",
   "metadata": {
    "collapsed": true
   },
   "source": [
    "K is a fixed-fixed matrix. \n",
    "C is a circulant matrix.\n",
    "We also want to look at T, a free-fixed matrix, and B, a free-free matrix."
   ]
  },
  {
   "cell_type": "code",
   "execution_count": 27,
   "metadata": {},
   "outputs": [
    {
     "name": "stdout",
     "output_type": "stream",
     "text": [
      "[[1, -1, 0, 0], [-1, 2, -1, 0], [0, -1, 2, -1], [0, 0, -1, 2]]\n"
     ]
    }
   ],
   "source": [
    "T_matrix = [[1,-1,0,0],[-1,2,-1,0],[0,-1,2,-1],[0,0,-1,2]]\n",
    "print(T_matrix)"
   ]
  },
  {
   "cell_type": "code",
   "execution_count": 28,
   "metadata": {},
   "outputs": [
    {
     "name": "stdout",
     "output_type": "stream",
     "text": [
      "[[1, -1, 0, 0], [-1, 2, -1, 0], [0, -1, 2, -1], [0, 0, -1, 1]]\n"
     ]
    }
   ],
   "source": [
    "B_matrix = [[1,-1,0,0],[-1,2,-1,0],[0,-1,2,-1],[0,0,-1,1]]\n",
    "print(B_matrix)"
   ]
  }
 ],
 "metadata": {
  "kernelspec": {
   "display_name": "Python 3",
   "language": "python",
   "name": "python3"
  },
  "language_info": {
   "codemirror_mode": {
    "name": "ipython",
    "version": 3
   },
   "file_extension": ".py",
   "mimetype": "text/x-python",
   "name": "python",
   "nbconvert_exporter": "python",
   "pygments_lexer": "ipython3",
   "version": "3.6.3"
  }
 },
 "nbformat": 4,
 "nbformat_minor": 2
}
